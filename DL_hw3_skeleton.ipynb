{
 "cells": [
  {
   "cell_type": "code",
   "execution_count": 1,
   "metadata": {},
   "outputs": [
    {
     "output_type": "execute_result",
     "data": {
      "text/plain": [
       "'\\n   Introduction to Deep Learning\\n   Assignment 3: Sentiment Classification of Tweets on a Recurrent Neural Network using Pretrained Embeddings\\n\\n   Hande Celikkanat\\n\\n   Credit: Data preparation pipeline adopted from https://medium.com/@sonicboom8/sentiment-analysis-torchtext-55fb57b1fab8\\n'"
      ]
     },
     "metadata": {},
     "execution_count": 1
    }
   ],
   "source": [
    "# -*- coding: utf-8 -*-\n",
    "\"\"\"\n",
    "   Introduction to Deep Learning\n",
    "   Assignment 3: Sentiment Classification of Tweets on a Recurrent Neural Network using Pretrained Embeddings\n",
    "\n",
    "   Hande Celikkanat\n",
    "\n",
    "   Credit: Data preparation pipeline adopted from https://medium.com/@sonicboom8/sentiment-analysis-torchtext-55fb57b1fab8\n",
    "\"\"\""
   ]
  },
  {
   "cell_type": "code",
   "execution_count": 1,
   "metadata": {},
   "outputs": [],
   "source": [
    "import sys\n",
    "import os\n",
    "import torch\n",
    "import torch.nn as nn\n",
    "import torch.nn.functional as F\n",
    "import torch.optim as optim\n",
    "import torchtext\n",
    "import spacy\n",
    "import regex as re\n",
    "from torchtext import vocab\n",
    "import time\n",
    "# os.environ['KMP_DUPLICATE_LIB_OK']='True'"
   ]
  },
  {
   "cell_type": "code",
   "execution_count": 2,
   "metadata": {},
   "outputs": [],
   "source": [
    "# Constants - Add here as you wish\n",
    "N_EPOCHS = 5\n",
    "EMBEDDING_DIM = 200 \n",
    "OUTPUT_DIM = 2"
   ]
  },
  {
   "cell_type": "code",
   "execution_count": 4,
   "metadata": {},
   "outputs": [],
   "source": [
    "# Auxilary functions for data preparation\n",
    "tok = spacy.load('en_core_web_sm',disable=['parser', 'tagger', 'ner'])\n",
    "def tokenizer(s):\n",
    "    return [w.text.lower() for w in tok(tweet_clean(s))]\n",
    "\n",
    "def tweet_clean(text):\n",
    "    text = re.sub(r'[^A-Za-z0-9]+', ' ', text) # remove non alphanumeric character\n",
    "    text = re.sub(r'https?:/\\/\\S+', ' ', text) # remove links\n",
    "    return text.strip()"
   ]
  },
  {
   "cell_type": "code",
   "execution_count": 5,
   "metadata": {},
   "outputs": [],
   "source": [
    "# Evaluation functions\n",
    "def get_accuracy(output, gold):\n",
    "    _, predicted = torch.max(output, dim=1)\n",
    "    correct = torch.sum(torch.eq(predicted,gold)).item()\n",
    "    acc = correct / gold.shape[0]\n",
    "    return acc\n",
    "\n",
    "\n",
    "def evaluate(model, iterator, criterion):\n",
    "    epoch_loss = 0\n",
    "    epoch_acc = 0\n",
    "\n",
    "    model.eval()\n",
    "    with torch.no_grad():\n",
    "        for batch in iterator:\n",
    "            text, text_lengths = batch.TweetText\n",
    "            predictions = model(text, text_lengths).squeeze(1)\n",
    "            loss = criterion(predictions, batch.Label)\n",
    "            acc = get_accuracy(predictions, batch.Label)\n",
    "            epoch_loss += loss.item()\n",
    "            epoch_acc += acc\n",
    "\n",
    "    return epoch_loss / len(iterator), epoch_acc / len(iterator)"
   ]
  },
  {
   "cell_type": "code",
   "execution_count": 6,
   "metadata": {},
   "outputs": [],
   "source": [
    "# Utility\n",
    "def epoch_time(start_time, end_time):\n",
    "    elapsed_time = end_time - start_time\n",
    "    elapsed_mins = int(elapsed_time / 60)\n",
    "    elapsed_secs = int(elapsed_time - (elapsed_mins * 60))\n",
    "    return elapsed_mins, elapsed_secs"
   ]
  },
  {
   "cell_type": "code",
   "execution_count": 154,
   "metadata": {},
   "outputs": [],
   "source": [
    "# Recurrent Network\n",
    "class RNN(nn.Module):\n",
    "    def __init__(self, hidden_dim, batch_size):\n",
    "        super().__init__()\n",
    "        self.hidden_dim = hidden_dim\n",
    "        self.embedding = nn.Embedding(30116, EMBEDDING_DIM) # 30116 tulee pretrained_embeddingsien koosta (vocab_size)\n",
    "        self.lstm = nn.LSTM(EMBEDDING_DIM, hidden_dim, num_layers=5)\n",
    "        self.fc = nn.Linear(hidden_dim, (OUTPUT_DIM))\n",
    "\n",
    "    def forward(self, x, seq, hidden=None):\n",
    "        embeds = self.embedding(x)\n",
    "        #print(\"embeds shape\", embeds.shape)\n",
    "        out, _ = self.lstm(embeds)\n",
    "        #print(\"LSTM shape\", out.shape)\n",
    "        x = self.fc(out[-1])\n",
    "        #print(\"Linear shape \", x.shape)\n",
    "        x = F.log_softmax(x, dim =1)\n",
    "        return x"
   ]
  },
  {
   "cell_type": "code",
   "execution_count": 9,
   "metadata": {},
   "outputs": [],
   "source": [
    "device = 'cuda' if torch.cuda.is_available() else 'cpu'\n",
    "\n",
    "# --- Data Preparation ---\n",
    "\n",
    "# define the columns that we want to process and how to process\n",
    "txt_field = torchtext.data.Field(sequential=True,\n",
    "                                 tokenize=tokenizer,\n",
    "                                 include_lengths=True,\n",
    "                                 use_vocab=True)\n",
    "label_field = torchtext.data.Field(sequential=False,\n",
    "                                   use_vocab=False)\n",
    "\n",
    "csv_fields = [\n",
    "    ('Label', label_field), # process this field as the class label\n",
    "    ('TweetID', None), # we dont need this field\n",
    "    ('Timestamp', None), # we dont need this field\n",
    "    ('Flag', None), # we dont need this field\n",
    "    ('UseerID', None), # we dont need this field\n",
    "    ('TweetText', txt_field) # process it as text field\n",
    "]\n",
    "\n",
    "train_data, dev_data, test_data = torchtext.data.TabularDataset.splits(path='../data',\n",
    "                                                                       format='csv',\n",
    "                                                                       train='sent140.train.mini.csv',\n",
    "                                                                       validation='sent140.dev.csv',\n",
    "                                                                       test='sent140.test.csv',\n",
    "                                                                       fields=csv_fields,\n",
    "                                                                       skip_header=False)\n",
    "\n",
    "\n",
    "txt_field.build_vocab(train_data, dev_data, max_size=100000,\n",
    "                      vectors='glove.twitter.27B.200d', unk_init = torch.Tensor.normal_)\n",
    "label_field.build_vocab(train_data)\n",
    "\n",
    "train_iter, dev_iter, test_iter = torchtext.data.BucketIterator.splits(datasets=(train_data, dev_data, test_data),\n",
    "                                            batch_sizes=(50,50,50),  # batch sizes of train, dev, test\n",
    "                                            sort_key=lambda x: len(x.TweetText), # how to sort text\n",
    "                                            device=device,\n",
    "                                            sort_within_batch=True,\n",
    "                                            repeat=False)"
   ]
  },
  {
   "cell_type": "code",
   "execution_count": 155,
   "metadata": {},
   "outputs": [
    {
     "output_type": "stream",
     "name": "stdout",
     "text": [
      "RNN(\n  (embedding): Embedding(30116, 200)\n  (lstm): LSTM(200, 30, num_layers=5)\n  (fc): Linear(in_features=30, out_features=2, bias=True)\n)\n"
     ]
    }
   ],
   "source": [
    "# --- Model, Loss, Optimizer Initialization ---\n",
    "\n",
    "PAD_IDX = txt_field.vocab.stoi[txt_field.pad_token]\n",
    "UNK_IDX = txt_field.vocab.stoi[txt_field.unk_token]\n",
    "# WRITE CODE HERE\n",
    "hidden_dim, batch_size = 30, 50\n",
    "model = RNN(hidden_dim, batch_size)\n",
    "print(model)\n",
    "\n",
    "# Copy the pretrained embeddings into the model\n",
    "pretrained_embeddings = txt_field.vocab.vectors\n",
    "model.embedding.weight.data.copy_(pretrained_embeddings)\n",
    "\n",
    "# Fix the <UNK> and <PAD> tokens in the embedding layer\n",
    "model.embedding.weight.data[UNK_IDX] = torch.zeros(EMBEDDING_DIM)\n",
    "model.embedding.weight.data[PAD_IDX] = torch.zeros(EMBEDDING_DIM)\n",
    "\n",
    "lr=0.01\n",
    "\n",
    "# Define Loss, Optimizer\n",
    "criterion = nn.CrossEntropyLoss()\n",
    "optimizer = torch.optim.Adam(model.parameters(), lr=lr)\n",
    "\n",
    "\n",
    "model = model.to(device)\n",
    "criterion = criterion.to(device)"
   ]
  },
  {
   "cell_type": "code",
   "execution_count": 156,
   "metadata": {
    "tags": []
   },
   "outputs": [
    {
     "output_type": "stream",
     "name": "stdout",
     "text": [
      "Epoch: 01 | Epoch Time: 0m 32s\n",
      "\tTrain Loss: 0.594 | Train Acc: 68.28%\n",
      "\t Val. Loss: 0.514 |  Val. Acc: 76.01%\n",
      "Epoch: 02 | Epoch Time: 0m 30s\n",
      "\tTrain Loss: 0.347 | Train Acc: 85.75%\n",
      "\t Val. Loss: 0.552 |  Val. Acc: 74.45%\n",
      "Epoch: 03 | Epoch Time: 0m 29s\n",
      "\tTrain Loss: 0.144 | Train Acc: 94.84%\n",
      "\t Val. Loss: 0.836 |  Val. Acc: 72.12%\n",
      "Epoch: 04 | Epoch Time: 0m 29s\n",
      "\tTrain Loss: 0.064 | Train Acc: 97.92%\n",
      "\t Val. Loss: 1.109 |  Val. Acc: 70.11%\n",
      "Epoch: 05 | Epoch Time: 0m 29s\n",
      "\tTrain Loss: 0.034 | Train Acc: 99.00%\n",
      "\t Val. Loss: 1.388 |  Val. Acc: 69.67%\n"
     ]
    }
   ],
   "source": [
    "# --- Train Loop ---\n",
    "for epoch in range(N_EPOCHS):\n",
    "    start_time = time.time()\n",
    "    epoch_loss = 0\n",
    "    epoch_acc = 0\n",
    "\n",
    "    model.train()\n",
    "\n",
    "    for batch in train_iter:\n",
    "        # WRITE CODE HERE\n",
    "        sequence_len=torch.max(batch.TweetText[1])\n",
    "        \n",
    "        model.zero_grad()\n",
    "        outputs = model(batch.TweetText[0], sequence_len)\n",
    "        \n",
    "        epoch_acc += get_accuracy(outputs, batch.Label)\n",
    "        loss = criterion(outputs, batch.Label)\n",
    "        epoch_loss+=loss\n",
    "        loss.backward()\n",
    "        optimizer.step()\n",
    "        \n",
    "\n",
    "    train_loss, train_acc = (epoch_loss / len(train_iter), epoch_acc / len(train_iter))\n",
    "    valid_loss, valid_acc = evaluate(model, dev_iter, criterion)\n",
    "\n",
    "    end_time = time.time()\n",
    "    epoch_mins, epoch_secs = epoch_time(start_time, end_time)\n",
    "\n",
    "    print(f'Epoch: {epoch+1:02} | Epoch Time: {epoch_mins}m {epoch_secs}s')\n",
    "    print(f'\\tTrain Loss: {train_loss:.3f} | Train Acc: {train_acc*100:.2f}%')\n",
    "    print(f'\\t Val. Loss: {valid_loss:.3f} |  Val. Acc: {valid_acc*100:.2f}%')"
   ]
  },
  {
   "cell_type": "code",
   "execution_count": null,
   "metadata": {},
   "outputs": [],
   "source": []
  }
 ],
 "metadata": {
  "kernelspec": {
   "name": "python3",
   "display_name": "Python 3.8.3 64-bit (conda)",
   "metadata": {
    "interpreter": {
     "hash": "a6382424dbaae863b382d7781737994c38e56f07a27d7c09dcea1b7fc0e4aee3"
    }
   }
  },
  "language_info": {
   "codemirror_mode": {
    "name": "ipython",
    "version": 3
   },
   "file_extension": ".py",
   "mimetype": "text/x-python",
   "name": "python",
   "nbconvert_exporter": "python",
   "pygments_lexer": "ipython3",
   "version": "3.8.3-final"
  }
 },
 "nbformat": 4,
 "nbformat_minor": 2
}